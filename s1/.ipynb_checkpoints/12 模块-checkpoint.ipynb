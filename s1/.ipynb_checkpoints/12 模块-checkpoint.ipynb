{
 "cells": [
  {
   "cell_type": "code",
   "execution_count": 1,
   "metadata": {},
   "outputs": [],
   "source": [
    "import os"
   ]
  },
  {
   "cell_type": "markdown",
   "metadata": {},
   "source": [
    "代码量变的很大的时候，把代码分割成一些有组织的片段，而且它们还能进行交互。这些代码段就是模块"
   ]
  },
  {
   "cell_type": "code",
   "execution_count": 5,
   "metadata": {},
   "outputs": [],
   "source": [
    "#名称空间\n",
    "### 局部名称空间\n",
    "### 全局名称空间\n",
    "### 内建名称空间\n",
    "#### 程序运行，首先加载内建名称空间，然后加载执行模块的名称空间，最后如果调用了一个函数，那么就会创建出局部名称空间\n",
    "import IPython.core.magics.logging"
   ]
  },
  {
   "cell_type": "markdown",
   "metadata": {},
   "source": [
    "### 路径搜索和搜索路径\n",
    "#### 路径搜索查找某个文件的操作\n",
    "#### 搜索路径是去查找一组目录"
   ]
  },
  {
   "cell_type": "code",
   "execution_count": 4,
   "metadata": {},
   "outputs": [
    {
     "data": {
      "text/plain": [
       "['',\n",
       " 'c:\\\\python36\\\\python36.zip',\n",
       " 'c:\\\\python36\\\\DLLs',\n",
       " 'c:\\\\python36\\\\lib',\n",
       " 'c:\\\\python36',\n",
       " 'c:\\\\python36\\\\lib\\\\site-packages',\n",
       " 'c:\\\\python36\\\\lib\\\\site-packages\\\\IPython\\\\extensions',\n",
       " 'C:\\\\Users\\\\Redheat\\\\.ipython']"
      ]
     },
     "execution_count": 4,
     "metadata": {},
     "output_type": "execute_result"
    }
   ],
   "source": [
    "import sys\n",
    "sys.path"
   ]
  },
  {
   "cell_type": "code",
   "execution_count": 6,
   "metadata": {},
   "outputs": [
    {
     "ename": "NameError",
     "evalue": "name 'foo' is not defined",
     "output_type": "error",
     "traceback": [
      "\u001b[1;31m---------------------------------------------------------------------------\u001b[0m",
      "\u001b[1;31mNameError\u001b[0m                                 Traceback (most recent call last)",
      "\u001b[1;32m<ipython-input-6-f1d2d2f924e9>\u001b[0m in \u001b[0;36m<module>\u001b[1;34m()\u001b[0m\n\u001b[1;32m----> 1\u001b[1;33m \u001b[0mfoo\u001b[0m\u001b[1;33m\u001b[0m\u001b[0m\n\u001b[0m",
      "\u001b[1;31mNameError\u001b[0m: name 'foo' is not defined"
     ]
    }
   ],
   "source": [
    "foo"
   ]
  },
  {
   "cell_type": "code",
   "execution_count": 7,
   "metadata": {},
   "outputs": [
    {
     "ename": "TypeError",
     "evalue": "map() must have at least two arguments.",
     "output_type": "error",
     "traceback": [
      "\u001b[1;31m---------------------------------------------------------------------------\u001b[0m",
      "\u001b[1;31mTypeError\u001b[0m                                 Traceback (most recent call last)",
      "\u001b[1;32m<ipython-input-7-e56740a6557e>\u001b[0m in \u001b[0;36m<module>\u001b[1;34m()\u001b[0m\n\u001b[1;32m----> 1\u001b[1;33m \u001b[0mmap\u001b[0m\u001b[1;33m(\u001b[0m\u001b[1;33m)\u001b[0m\u001b[1;33m\u001b[0m\u001b[0m\n\u001b[0m",
      "\u001b[1;31mTypeError\u001b[0m: map() must have at least two arguments."
     ]
    }
   ],
   "source": [
    "map()"
   ]
  },
  {
   "cell_type": "code",
   "execution_count": 8,
   "metadata": {},
   "outputs": [],
   "source": [
    "import os"
   ]
  },
  {
   "cell_type": "code",
   "execution_count": 9,
   "metadata": {},
   "outputs": [],
   "source": [
    "import os.path"
   ]
  },
  {
   "cell_type": "code",
   "execution_count": 12,
   "metadata": {},
   "outputs": [],
   "source": [
    "#不建议\n",
    "import os,sys"
   ]
  },
  {
   "cell_type": "code",
   "execution_count": 13,
   "metadata": {},
   "outputs": [],
   "source": [
    "import IPython.core.magics.logging"
   ]
  },
  {
   "cell_type": "code",
   "execution_count": 14,
   "metadata": {},
   "outputs": [],
   "source": [
    "from IPython import core"
   ]
  },
  {
   "cell_type": "code",
   "execution_count": 15,
   "metadata": {},
   "outputs": [],
   "source": [
    "x = core"
   ]
  },
  {
   "cell_type": "code",
   "execution_count": 18,
   "metadata": {},
   "outputs": [],
   "source": [
    "#加载只在第一次导入时发生\n",
    "import IPython as ipython"
   ]
  },
  {
   "cell_type": "code",
   "execution_count": 19,
   "metadata": {},
   "outputs": [],
   "source": [
    "import IPython as ipython"
   ]
  },
  {
   "cell_type": "code",
   "execution_count": 21,
   "metadata": {},
   "outputs": [],
   "source": [
    "#不建议\n",
    "from IPython import *"
   ]
  },
  {
   "cell_type": "code",
   "execution_count": 23,
   "metadata": {},
   "outputs": [
    {
     "data": {
      "text/plain": [
       "{'__name__': '__main__',\n",
       " '__doc__': 'Automatically created module for IPython interactive environment',\n",
       " '__package__': None,\n",
       " '__loader__': None,\n",
       " '__spec__': None,\n",
       " '__builtin__': <module 'builtins' (built-in)>,\n",
       " '__builtins__': <module 'builtins' (built-in)>,\n",
       " '_ih': ['',\n",
       "  'import os',\n",
       "  'import IPython',\n",
       "  'import IPython.core.magics.logging',\n",
       "  'import sys\\nsys.path',\n",
       "  '#名称空间\\n### 局部名称空间\\n### 全局名称空间\\n### 内建名称空间\\n#### 程序运行，首先加载内建名称空间，然后加载执行模块的名称空间，最后如果调用了一个函数，那么就会创建出局部名称空间\\nimport IPython.core.magics.logging',\n",
       "  'foo',\n",
       "  'map()',\n",
       "  'import os',\n",
       "  'import os.path',\n",
       "  'import os,sys,numpy',\n",
       "  'import os,sys',\n",
       "  '#不建议\\nimport os,sys',\n",
       "  'import IPython.core.magics.logging',\n",
       "  'from IPython import core',\n",
       "  'x = core',\n",
       "  'import IPython as ipython',\n",
       "  'import IPython as ipython',\n",
       "  '#加载只在第一次导入时发生\\nimport IPython as ipython',\n",
       "  'import IPython as ipython',\n",
       "  'from IPython import *',\n",
       "  '#不建议\\nfrom IPython import *',\n",
       "  'globals()',\n",
       "  '#全局名称空间\\nglobals()'],\n",
       " '_oh': {4: ['',\n",
       "   'c:\\\\python36\\\\python36.zip',\n",
       "   'c:\\\\python36\\\\DLLs',\n",
       "   'c:\\\\python36\\\\lib',\n",
       "   'c:\\\\python36',\n",
       "   'c:\\\\python36\\\\lib\\\\site-packages',\n",
       "   'c:\\\\python36\\\\lib\\\\site-packages\\\\IPython\\\\extensions',\n",
       "   'C:\\\\Users\\\\Redheat\\\\.ipython'],\n",
       "  22: {...}},\n",
       " '_dh': ['C:\\\\Users\\\\Redheat\\\\OneDrive\\\\文档\\\\学习记录\\\\讲课\\\\尚文\\\\python\\\\笔记'],\n",
       " 'In': ['',\n",
       "  'import os',\n",
       "  'import IPython',\n",
       "  'import IPython.core.magics.logging',\n",
       "  'import sys\\nsys.path',\n",
       "  '#名称空间\\n### 局部名称空间\\n### 全局名称空间\\n### 内建名称空间\\n#### 程序运行，首先加载内建名称空间，然后加载执行模块的名称空间，最后如果调用了一个函数，那么就会创建出局部名称空间\\nimport IPython.core.magics.logging',\n",
       "  'foo',\n",
       "  'map()',\n",
       "  'import os',\n",
       "  'import os.path',\n",
       "  'import os,sys,numpy',\n",
       "  'import os,sys',\n",
       "  '#不建议\\nimport os,sys',\n",
       "  'import IPython.core.magics.logging',\n",
       "  'from IPython import core',\n",
       "  'x = core',\n",
       "  'import IPython as ipython',\n",
       "  'import IPython as ipython',\n",
       "  '#加载只在第一次导入时发生\\nimport IPython as ipython',\n",
       "  'import IPython as ipython',\n",
       "  'from IPython import *',\n",
       "  '#不建议\\nfrom IPython import *',\n",
       "  'globals()',\n",
       "  '#全局名称空间\\nglobals()'],\n",
       " 'Out': {4: ['',\n",
       "   'c:\\\\python36\\\\python36.zip',\n",
       "   'c:\\\\python36\\\\DLLs',\n",
       "   'c:\\\\python36\\\\lib',\n",
       "   'c:\\\\python36',\n",
       "   'c:\\\\python36\\\\lib\\\\site-packages',\n",
       "   'c:\\\\python36\\\\lib\\\\site-packages\\\\IPython\\\\extensions',\n",
       "   'C:\\\\Users\\\\Redheat\\\\.ipython'],\n",
       "  22: {...}},\n",
       " 'get_ipython': <function IPython.core.getipython.get_ipython()>,\n",
       " 'exit': <IPython.core.autocall.ZMQExitAutocall at 0x4d15470>,\n",
       " 'quit': <IPython.core.autocall.ZMQExitAutocall at 0x4d15470>,\n",
       " '_': {...},\n",
       " '__': ['',\n",
       "  'c:\\\\python36\\\\python36.zip',\n",
       "  'c:\\\\python36\\\\DLLs',\n",
       "  'c:\\\\python36\\\\lib',\n",
       "  'c:\\\\python36',\n",
       "  'c:\\\\python36\\\\lib\\\\site-packages',\n",
       "  'c:\\\\python36\\\\lib\\\\site-packages\\\\IPython\\\\extensions',\n",
       "  'C:\\\\Users\\\\Redheat\\\\.ipython'],\n",
       " '___': '',\n",
       " '_i': 'globals()',\n",
       " '_ii': '#不建议\\nfrom IPython import *',\n",
       " '_iii': 'from IPython import *',\n",
       " '_i1': 'import os',\n",
       " 'os': <module 'os' from 'c:\\\\python36\\\\lib\\\\os.py'>,\n",
       " '_i2': 'import IPython',\n",
       " 'IPython': <module 'IPython' from 'c:\\\\python36\\\\lib\\\\site-packages\\\\IPython\\\\__init__.py'>,\n",
       " '_i3': 'import IPython.core.magics.logging',\n",
       " '_i4': 'import sys\\nsys.path',\n",
       " 'sys': <module 'sys' (built-in)>,\n",
       " '_4': ['',\n",
       "  'c:\\\\python36\\\\python36.zip',\n",
       "  'c:\\\\python36\\\\DLLs',\n",
       "  'c:\\\\python36\\\\lib',\n",
       "  'c:\\\\python36',\n",
       "  'c:\\\\python36\\\\lib\\\\site-packages',\n",
       "  'c:\\\\python36\\\\lib\\\\site-packages\\\\IPython\\\\extensions',\n",
       "  'C:\\\\Users\\\\Redheat\\\\.ipython'],\n",
       " '_i5': '#名称空间\\n### 局部名称空间\\n### 全局名称空间\\n### 内建名称空间\\n#### 程序运行，首先加载内建名称空间，然后加载执行模块的名称空间，最后如果调用了一个函数，那么就会创建出局部名称空间\\nimport IPython.core.magics.logging',\n",
       " '_i6': 'foo',\n",
       " '_i7': 'map()',\n",
       " '_i8': 'import os',\n",
       " '_i9': 'import os.path',\n",
       " '_i10': 'import os,sys,numpy',\n",
       " '_i11': 'import os,sys',\n",
       " '_i12': '#不建议\\nimport os,sys',\n",
       " '_i13': 'import IPython.core.magics.logging',\n",
       " '_i14': 'from IPython import core',\n",
       " 'core': <module 'IPython.core' from 'c:\\\\python36\\\\lib\\\\site-packages\\\\IPython\\\\core\\\\__init__.py'>,\n",
       " '_i15': 'x = core',\n",
       " 'x': <module 'IPython.core' from 'c:\\\\python36\\\\lib\\\\site-packages\\\\IPython\\\\core\\\\__init__.py'>,\n",
       " '_i16': 'import IPython as ipython',\n",
       " 'ipython': <module 'IPython' from 'c:\\\\python36\\\\lib\\\\site-packages\\\\IPython\\\\__init__.py'>,\n",
       " '_i17': 'import IPython as ipython',\n",
       " '_i18': '#加载只在第一次导入时发生\\nimport IPython as ipython',\n",
       " '_i19': 'import IPython as ipython',\n",
       " '_i20': 'from IPython import *',\n",
       " 'release': <module 'IPython.core.release' from 'c:\\\\python36\\\\lib\\\\site-packages\\\\IPython\\\\core\\\\release.py'>,\n",
       " 'utils': <module 'IPython.utils' from 'c:\\\\python36\\\\lib\\\\site-packages\\\\IPython\\\\utils\\\\__init__.py'>,\n",
       " 'testing': <module 'IPython.testing' from 'c:\\\\python36\\\\lib\\\\site-packages\\\\IPython\\\\testing\\\\__init__.py'>,\n",
       " 'paths': <module 'IPython.paths' from 'c:\\\\python36\\\\lib\\\\site-packages\\\\IPython\\\\paths.py'>,\n",
       " 'Application': traitlets.config.application.Application,\n",
       " 'terminal': <module 'IPython.terminal' from 'c:\\\\python36\\\\lib\\\\site-packages\\\\IPython\\\\terminal\\\\__init__.py'>,\n",
       " 'lib': <module 'IPython.lib' from 'c:\\\\python36\\\\lib\\\\site-packages\\\\IPython\\\\lib\\\\__init__.py'>,\n",
       " 'display': <module 'IPython.display' from 'c:\\\\python36\\\\lib\\\\site-packages\\\\IPython\\\\display.py'>,\n",
       " 'extensions': <module 'IPython.extensions' from 'c:\\\\python36\\\\lib\\\\site-packages\\\\IPython\\\\extensions\\\\__init__.py'>,\n",
       " 'embed': <function IPython.terminal.embed.embed(**kwargs)>,\n",
       " 'InteractiveShell': IPython.core.interactiveshell.InteractiveShell,\n",
       " 'test': <function IPython.testing.test(**kwargs)>,\n",
       " 'sys_info': <function IPython.utils.sysinfo.sys_info()>,\n",
       " 'extract_module_locals': <function IPython.utils.frame.extract_module_locals(depth=0)>,\n",
       " 'version_info': (6, 5, 0, ''),\n",
       " 'embed_kernel': <function IPython.embed_kernel(module=None, local_ns=None, **kwargs)>,\n",
       " 'start_ipython': <function IPython.start_ipython(argv=None, **kwargs)>,\n",
       " 'start_kernel': <function IPython.start_kernel(argv=None, **kwargs)>,\n",
       " '_i21': '#不建议\\nfrom IPython import *',\n",
       " '_i22': 'globals()',\n",
       " '_22': {...},\n",
       " '_i23': '#全局名称空间\\nglobals()'}"
      ]
     },
     "execution_count": 23,
     "metadata": {},
     "output_type": "execute_result"
    }
   ],
   "source": [
    "#全局名称空间\n",
    "globals()"
   ]
  },
  {
   "cell_type": "code",
   "execution_count": 27,
   "metadata": {},
   "outputs": [],
   "source": [
    "#局部名称空间\n",
    "def func1():\n",
    "    x = 1\n",
    "    print(locals())"
   ]
  },
  {
   "cell_type": "code",
   "execution_count": 26,
   "metadata": {},
   "outputs": [
    {
     "name": "stdout",
     "output_type": "stream",
     "text": [
      "{'x': 1}\n"
     ]
    }
   ],
   "source": [
    "func1()"
   ]
  },
  {
   "cell_type": "code",
   "execution_count": 29,
   "metadata": {},
   "outputs": [],
   "source": [
    "from importlib import reload"
   ]
  },
  {
   "cell_type": "code",
   "execution_count": 30,
   "metadata": {},
   "outputs": [
    {
     "data": {
      "text/plain": [
       "<module 'os' from 'c:\\\\python36\\\\lib\\\\os.py'>"
      ]
     },
     "execution_count": 30,
     "metadata": {},
     "output_type": "execute_result"
    }
   ],
   "source": [
    "reload(os)"
   ]
  },
  {
   "cell_type": "markdown",
   "metadata": {},
   "source": [
    "包是一个有层次的目录结构"
   ]
  },
  {
   "cell_type": "code",
   "execution_count": 31,
   "metadata": {},
   "outputs": [],
   "source": [
    "_\n",
    "from IPython import *"
   ]
  },
  {
   "cell_type": "code",
   "execution_count": 32,
   "metadata": {},
   "outputs": [
    {
     "ename": "ModuleNotFoundError",
     "evalue": "No module named '_xxx'",
     "output_type": "error",
     "traceback": [
      "\u001b[1;31m---------------------------------------------------------------------------\u001b[0m",
      "\u001b[1;31mModuleNotFoundError\u001b[0m                       Traceback (most recent call last)",
      "\u001b[1;32m<ipython-input-32-83a684086b0e>\u001b[0m in \u001b[0;36m<module>\u001b[1;34m()\u001b[0m\n\u001b[1;32m----> 1\u001b[1;33m \u001b[1;32mimport\u001b[0m \u001b[0m_xxx\u001b[0m\u001b[1;33m\u001b[0m\u001b[0m\n\u001b[0m",
      "\u001b[1;31mModuleNotFoundError\u001b[0m: No module named '_xxx'"
     ]
    }
   ],
   "source": [
    "import _xxx"
   ]
  },
  {
   "cell_type": "code",
   "execution_count": null,
   "metadata": {},
   "outputs": [],
   "source": []
  }
 ],
 "metadata": {
  "kernelspec": {
   "display_name": "Python 3",
   "language": "python",
   "name": "python3"
  },
  "language_info": {
   "codemirror_mode": {
    "name": "ipython",
    "version": 3
   },
   "file_extension": ".py",
   "mimetype": "text/x-python",
   "name": "python",
   "nbconvert_exporter": "python",
   "pygments_lexer": "ipython3",
   "version": "3.6.6"
  }
 },
 "nbformat": 4,
 "nbformat_minor": 2
}
