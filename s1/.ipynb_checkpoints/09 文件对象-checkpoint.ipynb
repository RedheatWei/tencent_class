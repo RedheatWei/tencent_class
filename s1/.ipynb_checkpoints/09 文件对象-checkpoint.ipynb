{
 "cells": [
  {
   "cell_type": "markdown",
   "metadata": {},
   "source": [
    "open,file\n",
    "\n",
    "能够访问任何抽象层面上的文件\n",
    "\n",
    "open函数在成功打开文件之后，会返回一个文件对象，失败的的话会返回错误\n",
    "\n",
    "open(filename,access_mode='r',buffering=-1)\n",
    "\n",
    "文件模式：\n",
    "    r 读\n",
    "    w 写\n",
    "    a 追加\n",
    "    r+ 读写\n",
    "    w+ 写读\n",
    "    a+ 追加读\n",
    "    rb 二进制读\n",
    "    wb 二进制写\n",
    "    ab 二进制追加\n",
    "    rb+\n",
    "    wb+\n",
    "    ab+\n",
    "在类Unix系统中，b是可有可无的，因为这些系统把所有的文件，都当做是二进制文件，包括文本文件\n",
    "buffering代表的是所采用的缓冲方式\n",
    "    0：不缓冲\n",
    "    1：只缓冲一行数据\n",
    "    大于1：使用给定的值作为缓冲区的大小\n",
    "    不提供或者为负数，代表使用系统默认大小"
   ]
  },
  {
   "cell_type": "code",
   "execution_count": 11,
   "metadata": {},
   "outputs": [],
   "source": [
    "file_a = open(\"example.txt\",'r')\n",
    "file_a.readlines()\n",
    "# file_a.writelines(['asdasdasdsadas'])\n",
    "file_a.close()"
   ]
  },
  {
   "cell_type": "code",
   "execution_count": 14,
   "metadata": {},
   "outputs": [],
   "source": [
    "file_a = open(\"example.txt\",'r+')\n",
    "file_a.readlines()\n",
    "file_a.writelines(['asdasdasdsadas'])\n",
    "file_a.close()"
   ]
  },
  {
   "cell_type": "code",
   "execution_count": 18,
   "metadata": {},
   "outputs": [],
   "source": [
    "file_a = open(\"example.txt\",'w')"
   ]
  },
  {
   "cell_type": "code",
   "execution_count": 19,
   "metadata": {},
   "outputs": [],
   "source": [
    "file_a.writelines([\"asdasdasdas\",\"dasdasdasdasdas\"])"
   ]
  },
  {
   "cell_type": "code",
   "execution_count": 20,
   "metadata": {},
   "outputs": [
    {
     "ename": "UnsupportedOperation",
     "evalue": "not readable",
     "output_type": "error",
     "traceback": [
      "\u001b[1;31m---------------------------------------------------------------------------\u001b[0m",
      "\u001b[1;31mUnsupportedOperation\u001b[0m                      Traceback (most recent call last)",
      "\u001b[1;32m<ipython-input-20-ded7605b7607>\u001b[0m in \u001b[0;36m<module>\u001b[1;34m()\u001b[0m\n\u001b[1;32m----> 1\u001b[1;33m \u001b[0mfile_a\u001b[0m\u001b[1;33m.\u001b[0m\u001b[0mreadlines\u001b[0m\u001b[1;33m(\u001b[0m\u001b[1;33m)\u001b[0m\u001b[1;33m\u001b[0m\u001b[0m\n\u001b[0m",
      "\u001b[1;31mUnsupportedOperation\u001b[0m: not readable"
     ]
    }
   ],
   "source": [
    "file_a.readlines()"
   ]
  },
  {
   "cell_type": "code",
   "execution_count": 21,
   "metadata": {},
   "outputs": [],
   "source": [
    "file_a.close()"
   ]
  },
  {
   "cell_type": "code",
   "execution_count": 27,
   "metadata": {},
   "outputs": [],
   "source": [
    "file_a = open(\"example.txt\",'w+')"
   ]
  },
  {
   "cell_type": "code",
   "execution_count": 31,
   "metadata": {},
   "outputs": [
    {
     "data": {
      "text/plain": [
       "0"
      ]
     },
     "execution_count": 31,
     "metadata": {},
     "output_type": "execute_result"
    }
   ],
   "source": [
    "file_a.writelines([\"asdasdasdas\",\"dasdasdasdasdas\"])\n",
    "file_a.flush()\n",
    "file_a.seek(0)"
   ]
  },
  {
   "cell_type": "code",
   "execution_count": 32,
   "metadata": {},
   "outputs": [
    {
     "data": {
      "text/plain": [
       "['asdasdasdasdasdasdasdasdasasdasdasdasdasdasdasdasdas']"
      ]
     },
     "execution_count": 32,
     "metadata": {},
     "output_type": "execute_result"
    }
   ],
   "source": [
    "file_a.readlines()"
   ]
  },
  {
   "cell_type": "code",
   "execution_count": 30,
   "metadata": {},
   "outputs": [
    {
     "name": "stdout",
     "output_type": "stream",
     "text": [
      "Help on built-in function readlines:\n",
      "\n",
      "readlines(hint=-1, /) method of _io.TextIOWrapper instance\n",
      "    Return a list of lines from the stream.\n",
      "    \n",
      "    hint can be specified to control the number of lines read: no more\n",
      "    lines will be read if the total size (in bytes/characters) of all\n",
      "    lines so far exceeds hint.\n",
      "\n"
     ]
    }
   ],
   "source": [
    "help(file_a.readlines)"
   ]
  },
  {
   "cell_type": "code",
   "execution_count": null,
   "metadata": {},
   "outputs": [],
   "source": []
  }
 ],
 "metadata": {
  "kernelspec": {
   "display_name": "Python 3",
   "language": "python",
   "name": "python3"
  },
  "language_info": {
   "codemirror_mode": {
    "name": "ipython",
    "version": 3
   },
   "file_extension": ".py",
   "mimetype": "text/x-python",
   "name": "python",
   "nbconvert_exporter": "python",
   "pygments_lexer": "ipython3",
   "version": "3.6.6"
  }
 },
 "nbformat": 4,
 "nbformat_minor": 2
}
