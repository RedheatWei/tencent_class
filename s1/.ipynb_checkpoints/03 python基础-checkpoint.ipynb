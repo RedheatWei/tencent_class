{
 "cells": [
  {
   "cell_type": "code",
   "execution_count": 7,
   "metadata": {},
   "outputs": [
    {
     "name": "stdout",
     "output_type": "stream",
     "text": [
      "Enter a number:0\n",
      "这是0\n"
     ]
    }
   ],
   "source": [
    "input_number = input(\"Enter a number:\")\n",
    "if input_number != '': #确实输入不为空\n",
    "    input_number = int(input_number) #把str转换成int\n",
    "    if input_number > 0:\n",
    "        print(\"这是个正数\")\n",
    "    elif input_number < 0:\n",
    "        print(\"这是个负数\")\n",
    "    else:\n",
    "        print(\"这是0\")\n",
    "else:\n",
    "    print(\"空输入\")"
   ]
  },
  {
   "cell_type": "code",
   "execution_count": null,
   "metadata": {},
   "outputs": [],
   "source": []
  }
 ],
 "metadata": {
  "kernelspec": {
   "display_name": "Python 3",
   "language": "python",
   "name": "python3"
  },
  "language_info": {
   "codemirror_mode": {
    "name": "ipython",
    "version": 3
   },
   "file_extension": ".py",
   "mimetype": "text/x-python",
   "name": "python",
   "nbconvert_exporter": "python",
   "pygments_lexer": "ipython3",
   "version": "3.6.5rc1"
  }
 },
 "nbformat": 4,
 "nbformat_minor": 2
}
