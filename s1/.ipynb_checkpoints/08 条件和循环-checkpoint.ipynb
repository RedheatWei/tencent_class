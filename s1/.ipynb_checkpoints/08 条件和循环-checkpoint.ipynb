{
 "cells": [
  {
   "cell_type": "code",
   "execution_count": 1,
   "metadata": {},
   "outputs": [
    {
     "name": "stdout",
     "output_type": "stream",
     "text": [
      "Enter your wages: 2000\n",
      "ID:1\t 名称:苹果\t 价格:10\t\n",
      "\n",
      "ID:2\t 名称:香蕉\t 价格:20\t\n",
      "\n",
      "ID:3\t 名称:草莓\t 价格:30\t\n",
      "\n",
      "ID:4\t 名称:iPhone\t 价格:6666\t\n",
      "\n",
      "Enter item ID: \n",
      "have no this item!\n",
      "Enter item ID: 1\n",
      "Enter item 苹果 success, balance is 1990.0\n",
      "Enter item ID: 2\n",
      "Enter item 香蕉 success, balance is 1970.0\n",
      "Enter item ID: 3\n",
      "Enter item 草莓 success, balance is 1940.0\n",
      "Enter item ID: 4\n",
      "You don't have enough money!Only have:1940.0\n",
      "Enter item ID: q\n",
      "You have buy:\n",
      "苹果\n",
      "香蕉\n",
      "草莓\n",
      "Balance:1940.0\n"
     ]
    }
   ],
   "source": [
    "# 启动程序后，让用户输入工资，然后打印商品列表\n",
    "# 允许用户根据商品编号购买商品\n",
    "# 用户选择商品后，检测余额是否够，够就直接扣款，不够就提醒 \n",
    "# 可随时退出，退出时，打印已购买商品和余额\n",
    "\n",
    "#商品列表的一个字典\n",
    "items_dict = {\"1\":{\"name\":\"苹果\",\"price\":10},\"2\":{\"name\":\"香蕉\",\"price\":20},\"3\":{\"name\":\"草莓\",\"price\":30},\"4\":{\"name\":\"iPhone\",\"price\":6666}}\n",
    "#购买的商品\n",
    "items_buy = []\n",
    "#工资\n",
    "wages = float(input(\"Enter your wages: \"))\n",
    "#打印商品信息\n",
    "for item in items_dict:\n",
    "    print(\"ID:%s\\t 名称:%s\\t 价格:%s\\t\\n\" % (item,items_dict[item]['name'],items_dict[item]['price']))\n",
    "while True:\n",
    "    #输入购买的商品\n",
    "    item_id = input(\"Enter item ID: \")\n",
    "    #判断商品在不在商品列表里\n",
    "    if item_id in items_dict:\n",
    "        #取出商品价格\n",
    "        price = items_dict[item_id]['price']\n",
    "        #看余额是否足够\n",
    "        if wages > price:\n",
    "            #把购买的商品加入已购列表\n",
    "            items_buy.append(item_id)\n",
    "            wages -= price\n",
    "            print(\"Enter item %s success, balance is %s\" % (items_dict[item_id]['name'],wages))\n",
    "        else:\n",
    "            print(\"You don't have enough money!Only have:%s\" % wages)\n",
    "    #随时退出\n",
    "    elif item_id == 'q':\n",
    "        print(\"You have buy:\")\n",
    "        #打印购买的商品和价格\n",
    "        for buy in items_buy:\n",
    "           print(items_dict[buy][\"name\"])\n",
    "        print(\"Balance:%s\" % wages)\n",
    "        break\n",
    "    else:\n",
    "        #\n",
    "        print(\"have no this item!\")        "
   ]
  },
  {
   "cell_type": "code",
   "execution_count": 3,
   "metadata": {},
   "outputs": [
    {
     "name": "stdout",
     "output_type": "stream",
     "text": [
      "Enter a string: nqzva\n",
      "admin"
     ]
    }
   ],
   "source": [
    "# 加密。把字母表中前13个字母对应字母表中后13个字母，后13个字母对应前13个字母，输入加密后的内容，数字和符号不加密。要包括解密功能。\n",
    "str_list = input(\"Enter a string: \")\n",
    "for s in str_list:\n",
    "    if 65<=ord(s)<=77 or 97<=ord(s)<=109:\n",
    "        print(chr(ord(s)+13),end=\"\")\n",
    "    elif 78<=ord(s)<=90 or 110<=ord(s)<=122:\n",
    "        print(chr(ord(s)-13),end=\"\")\n",
    "    else:\n",
    "        print(s,end='')"
   ]
  },
  {
   "cell_type": "markdown",
   "metadata": {},
   "source": [
    "## if语句\n",
    "    if expression:\n",
    "        expr_true_suite #只有在表达式为真的时候，才会执行\n",
    "        \n",
    "    if expression1 and expression2:\n",
    "        expr_true_suite\n",
    "        \n",
    "    if expression:expr_true_suite() #可以写到一行，但是不推荐\n",
    "\n",
    "    if expression:\n",
    "        expr_true_suite\n",
    "    else:\n",
    "        expr_false_suite #表达式为假的时候，执行的语句\n",
    "\n",
    "    if expression1:\n",
    "        expr1_true_suite\n",
    "    elif expression2:\n",
    "        expr2_true_suite\n",
    "    elif expression3:\n",
    "        expr3_true_suite\n",
    "    else:\n",
    "        expr123_false_suite\n"
   ]
  },
  {
   "cell_type": "code",
   "execution_count": 5,
   "metadata": {},
   "outputs": [
    {
     "name": "stdout",
     "output_type": "stream",
     "text": [
      "Enter a number: 98\n",
      "10 < 98.0 < 100\n"
     ]
    }
   ],
   "source": [
    "x = float(input(\"Enter a number: \"))\n",
    "if 0<x<10:\n",
    "    print(\"0 < %s < 10\" % x)\n",
    "elif 10<x<100:\n",
    "    print(\"10 < %s < 100\" % x)\n",
    "else:\n",
    "    print(x)"
   ]
  },
  {
   "cell_type": "markdown",
   "metadata": {},
   "source": [
    "while语句，条件循环\n",
    "\n",
    "    while expression:\n",
    "        suite_to_repet\n",
    "    while expression:\n",
    "        suite_to_repet\n",
    "    else:\n",
    "        suite"
   ]
  },
  {
   "cell_type": "code",
   "execution_count": 6,
   "metadata": {},
   "outputs": [
    {
     "name": "stdout",
     "output_type": "stream",
     "text": [
      "0\n",
      "1\n",
      "2\n",
      "3\n",
      "4\n",
      "5\n",
      "6\n",
      "7\n",
      "8\n",
      "9\n",
      "end\n"
     ]
    }
   ],
   "source": [
    "count = 0\n",
    "while count<10:\n",
    "    print(count)\n",
    "    count+=1\n",
    "else:\n",
    "    print('end')"
   ]
  },
  {
   "cell_type": "markdown",
   "metadata": {},
   "source": [
    "## for语句\n",
    "    for iter_var in iterable:\n",
    "        suite_to_repeat\n",
    "#### 可以遍历序列成员，可以用在列表解析和生成器表达式，会自动调用迭代器的next方法，捕获StopIteration异常，并结束循环"
   ]
  },
  {
   "cell_type": "code",
   "execution_count": 7,
   "metadata": {},
   "outputs": [
    {
     "name": "stdout",
     "output_type": "stream",
     "text": [
      "1\n",
      "2\n",
      "3\n",
      "4\n",
      "5\n"
     ]
    }
   ],
   "source": [
    "list_a = [1,2,3,4,5]\n",
    "for a in list_a:\n",
    "    print(a)"
   ]
  },
  {
   "cell_type": "code",
   "execution_count": 8,
   "metadata": {},
   "outputs": [
    {
     "name": "stdout",
     "output_type": "stream",
     "text": [
      "0 a\n",
      "1 b\n",
      "2 c\n",
      "3 d\n",
      "4 e\n"
     ]
    }
   ],
   "source": [
    "list_a = ['a','b','c','d','e']\n",
    "for a in range(len(list_a)):\n",
    "    print(a,list_a[a])"
   ]
  },
  {
   "cell_type": "code",
   "execution_count": 9,
   "metadata": {},
   "outputs": [
    {
     "name": "stdout",
     "output_type": "stream",
     "text": [
      "0 a\n",
      "1 b\n",
      "2 c\n",
      "3 d\n",
      "4 e\n"
     ]
    }
   ],
   "source": [
    "list_a = ['a','b','c','d','e']\n",
    "for i,j in enumerate(list_a):\n",
    "    print(i,j)"
   ]
  },
  {
   "cell_type": "markdown",
   "metadata": {},
   "source": [
    "## 迭代器\n",
    "#### 数据结构\n",
    "#### 就是有next方法的对象\n",
    "#### 只能向后移动，不能回到开始，也不能复制一个迭代器"
   ]
  },
  {
   "cell_type": "code",
   "execution_count": 59,
   "metadata": {},
   "outputs": [
    {
     "data": {
      "text/plain": [
       "[0, 1, 2]"
      ]
     },
     "execution_count": 59,
     "metadata": {},
     "output_type": "execute_result"
    }
   ],
   "source": [
    "list_a = list(range(3))\n",
    "list_a"
   ]
  },
  {
   "cell_type": "code",
   "execution_count": 64,
   "metadata": {},
   "outputs": [],
   "source": [
    "iter_a = iter(list_a)"
   ]
  },
  {
   "cell_type": "code",
   "execution_count": 65,
   "metadata": {},
   "outputs": [
    {
     "data": {
      "text/plain": [
       "0"
      ]
     },
     "execution_count": 65,
     "metadata": {},
     "output_type": "execute_result"
    }
   ],
   "source": [
    "iter_a.__next__()"
   ]
  },
  {
   "cell_type": "code",
   "execution_count": 61,
   "metadata": {},
   "outputs": [
    {
     "data": {
      "text/plain": [
       "True"
      ]
     },
     "execution_count": 61,
     "metadata": {},
     "output_type": "execute_result"
    }
   ],
   "source": [
    "#只要迭代器中有一个为真，它结果就为真\n",
    "any(iter_a)"
   ]
  },
  {
   "cell_type": "code",
   "execution_count": 66,
   "metadata": {},
   "outputs": [
    {
     "data": {
      "text/plain": [
       "True"
      ]
     },
     "execution_count": 66,
     "metadata": {},
     "output_type": "execute_result"
    }
   ],
   "source": [
    "#迭代器中所有值都为真，结果才为真\n",
    "all(iter_a)"
   ]
  },
  {
   "cell_type": "code",
   "execution_count": 39,
   "metadata": {},
   "outputs": [
    {
     "name": "stdout",
     "output_type": "stream",
     "text": [
      "0\n",
      "1\n",
      "2\n"
     ]
    }
   ],
   "source": [
    "for a in iter_a:\n",
    "    print(a)"
   ]
  },
  {
   "cell_type": "markdown",
   "metadata": {},
   "source": [
    "python2   a.next()"
   ]
  },
  {
   "cell_type": "markdown",
   "metadata": {},
   "source": [
    "range(stop)\n",
    "range(start,end,step=1)"
   ]
  },
  {
   "cell_type": "code",
   "execution_count": 43,
   "metadata": {},
   "outputs": [
    {
     "data": {
      "text/plain": [
       "[0, 1, 2, 3, 4, 5, 6, 7, 8, 9]"
      ]
     },
     "execution_count": 43,
     "metadata": {},
     "output_type": "execute_result"
    }
   ],
   "source": [
    "list(range(10))"
   ]
  },
  {
   "cell_type": "code",
   "execution_count": 44,
   "metadata": {},
   "outputs": [
    {
     "data": {
      "text/plain": [
       "[0, 1, 2, 3, 4, 5, 6, 7, 8, 9]"
      ]
     },
     "execution_count": 44,
     "metadata": {},
     "output_type": "execute_result"
    }
   ],
   "source": [
    "list(range(0,10))"
   ]
  },
  {
   "cell_type": "code",
   "execution_count": 49,
   "metadata": {},
   "outputs": [
    {
     "data": {
      "text/plain": [
       "[0, 4, 8]"
      ]
     },
     "execution_count": 49,
     "metadata": {},
     "output_type": "execute_result"
    }
   ],
   "source": [
    "list(range(0,10,4))"
   ]
  },
  {
   "cell_type": "code",
   "execution_count": 67,
   "metadata": {},
   "outputs": [],
   "source": []
  },
  {
   "cell_type": "code",
   "execution_count": null,
   "metadata": {},
   "outputs": [],
   "source": []
  },
  {
   "cell_type": "markdown",
   "metadata": {},
   "source": [
    "## break\n",
    "#### 结束当前循环，然后跳到下条\n",
    "## continue\n",
    "#### 终止当前循环，忽略剩余的语句，回到循环的顶端"
   ]
  },
  {
   "cell_type": "code",
   "execution_count": 53,
   "metadata": {},
   "outputs": [
    {
     "name": "stdout",
     "output_type": "stream",
     "text": [
      "1奇数\n",
      "2偶数\n",
      "3奇数\n",
      "4偶数\n",
      "5奇数\n",
      "6偶数\n",
      "7奇数\n",
      "8偶数\n",
      "end\n"
     ]
    }
   ],
   "source": [
    "count = 0\n",
    "while count < 10:\n",
    "    count += 1\n",
    "    if count % 2 == 0:\n",
    "        print(\"%s偶数\" % count)\n",
    "    else:\n",
    "        print(\"%s奇数\" % count)\n",
    "    if count < 8:\n",
    "        continue\n",
    "    else:\n",
    "        break\n",
    "    print(\"第%s次循环\" % count)\n",
    "print(\"end\")"
   ]
  },
  {
   "cell_type": "markdown",
   "metadata": {},
   "source": [
    "## pass,占位"
   ]
  },
  {
   "cell_type": "code",
   "execution_count": 54,
   "metadata": {},
   "outputs": [],
   "source": [
    "def buy():\n",
    "    pass\n",
    "\n",
    "def seal():\n",
    "    pass"
   ]
  },
  {
   "cell_type": "markdown",
   "metadata": {},
   "source": [
    "只要循环语句是正常结束的（不是通过break），else就可以执行"
   ]
  },
  {
   "cell_type": "code",
   "execution_count": 68,
   "metadata": {},
   "outputs": [],
   "source": [
    "list_a = list(range(10))"
   ]
  },
  {
   "cell_type": "code",
   "execution_count": 69,
   "metadata": {},
   "outputs": [
    {
     "data": {
      "text/plain": [
       "[0, 1, 2, 3, 4, 5, 6, 7, 8, 9]"
      ]
     },
     "execution_count": 69,
     "metadata": {},
     "output_type": "execute_result"
    }
   ],
   "source": [
    "list_a"
   ]
  },
  {
   "cell_type": "code",
   "execution_count": 71,
   "metadata": {},
   "outputs": [
    {
     "name": "stdout",
     "output_type": "stream",
     "text": [
      "0\n",
      "1\n",
      "2\n"
     ]
    },
    {
     "ename": "IndexError",
     "evalue": "list index out of range",
     "output_type": "error",
     "traceback": [
      "\u001b[1;31m---------------------------------------------------------------------------\u001b[0m",
      "\u001b[1;31mIndexError\u001b[0m                                Traceback (most recent call last)",
      "\u001b[1;32m<ipython-input-71-1e35fdcf39e0>\u001b[0m in \u001b[0;36m<module>\u001b[1;34m()\u001b[0m\n\u001b[0;32m      1\u001b[0m \u001b[1;32mfor\u001b[0m \u001b[0ma\u001b[0m \u001b[1;32min\u001b[0m \u001b[0mrange\u001b[0m\u001b[1;33m(\u001b[0m\u001b[0mlen\u001b[0m\u001b[1;33m(\u001b[0m\u001b[0mlist_a\u001b[0m\u001b[1;33m)\u001b[0m\u001b[1;33m)\u001b[0m\u001b[1;33m:\u001b[0m\u001b[1;33m\u001b[0m\u001b[0m\n\u001b[1;32m----> 2\u001b[1;33m     \u001b[0mprint\u001b[0m\u001b[1;33m(\u001b[0m\u001b[0mlist_a\u001b[0m\u001b[1;33m[\u001b[0m\u001b[0ma\u001b[0m\u001b[1;33m]\u001b[0m\u001b[1;33m)\u001b[0m\u001b[1;33m\u001b[0m\u001b[0m\n\u001b[0m\u001b[0;32m      3\u001b[0m     \u001b[0mlist_a\u001b[0m\u001b[1;33m.\u001b[0m\u001b[0mpop\u001b[0m\u001b[1;33m(\u001b[0m\u001b[1;33m)\u001b[0m\u001b[1;33m\u001b[0m\u001b[0m\n",
      "\u001b[1;31mIndexError\u001b[0m: list index out of range"
     ]
    }
   ],
   "source": [
    "#迭代可变对象的时候，尽量不要修改\n",
    "for a in range(len(list_a)):\n",
    "    print(list_a[a])\n",
    "    list_a.pop()"
   ]
  },
  {
   "cell_type": "markdown",
   "metadata": {},
   "source": [
    "## 列表解析,用来动态创建列表\n",
    "    [expr for iter_var in iterable]\n",
    "    [expr for iter_var in iterable if cond_expr]"
   ]
  },
  {
   "cell_type": "code",
   "execution_count": 72,
   "metadata": {},
   "outputs": [
    {
     "data": {
      "text/plain": [
       "[0, 1, 4, 9, 16]"
      ]
     },
     "execution_count": 72,
     "metadata": {},
     "output_type": "execute_result"
    }
   ],
   "source": [
    "[x**2 for x in range(5)]"
   ]
  },
  {
   "cell_type": "code",
   "execution_count": 73,
   "metadata": {},
   "outputs": [
    {
     "name": "stdout",
     "output_type": "stream",
     "text": [
      "[0, 1, 4, 9, 16]\n"
     ]
    }
   ],
   "source": [
    "list_pow = []\n",
    "for x in range(5):\n",
    "    list_pow.append(x**2)\n",
    "print(list_pow)"
   ]
  },
  {
   "cell_type": "code",
   "execution_count": 74,
   "metadata": {},
   "outputs": [
    {
     "data": {
      "text/plain": [
       "[0, 4, 16]"
      ]
     },
     "execution_count": 74,
     "metadata": {},
     "output_type": "execute_result"
    }
   ],
   "source": [
    "[x**2 for x in range(5) if x % 2 == 0]"
   ]
  },
  {
   "cell_type": "code",
   "execution_count": 75,
   "metadata": {},
   "outputs": [
    {
     "data": {
      "text/plain": [
       "[(0, 0),\n",
       " (0, 1),\n",
       " (0, 2),\n",
       " (0, 3),\n",
       " (0, 4),\n",
       " (1, 0),\n",
       " (1, 1),\n",
       " (1, 2),\n",
       " (1, 3),\n",
       " (1, 4),\n",
       " (2, 0),\n",
       " (2, 1),\n",
       " (2, 2),\n",
       " (2, 3),\n",
       " (2, 4)]"
      ]
     },
     "execution_count": 75,
     "metadata": {},
     "output_type": "execute_result"
    }
   ],
   "source": [
    "[(i,j) for i in range(3) for j in range(5)]"
   ]
  },
  {
   "cell_type": "code",
   "execution_count": 76,
   "metadata": {},
   "outputs": [
    {
     "name": "stdout",
     "output_type": "stream",
     "text": [
      "0 0\n",
      "0 1\n",
      "0 2\n",
      "0 3\n",
      "0 4\n",
      "1 0\n",
      "1 1\n",
      "1 2\n",
      "1 3\n",
      "1 4\n",
      "2 0\n",
      "2 1\n",
      "2 2\n",
      "2 3\n",
      "2 4\n"
     ]
    }
   ],
   "source": [
    "for i in range(3):\n",
    "    for j in range(5):\n",
    "        print(i,j)"
   ]
  },
  {
   "cell_type": "markdown",
   "metadata": {},
   "source": [
    "## 生成器表达式\n",
    "#### 并不真正的创建列表，而是返回一个生成器，用于延迟计算\n",
    "    (expr for iter_var in iterable if cond_expr)"
   ]
  },
  {
   "cell_type": "code",
   "execution_count": 78,
   "metadata": {},
   "outputs": [],
   "source": [
    "generator_a = (x**2 for x in range(5))"
   ]
  },
  {
   "cell_type": "code",
   "execution_count": 79,
   "metadata": {},
   "outputs": [
    {
     "name": "stdout",
     "output_type": "stream",
     "text": [
      "0\n",
      "1\n",
      "4\n",
      "9\n",
      "16\n"
     ]
    }
   ],
   "source": [
    "for a in generator_a:\n",
    "    print(a)"
   ]
  },
  {
   "cell_type": "code",
   "execution_count": 80,
   "metadata": {},
   "outputs": [
    {
     "name": "stdout",
     "output_type": "stream",
     "text": [
      "(1, 56)\n",
      "(1, 2)\n",
      "(1, 1)\n",
      "(2, 56)\n",
      "(2, 2)\n",
      "(2, 1)\n",
      "(3, 56)\n",
      "(3, 2)\n",
      "(3, 1)\n",
      "(17, 56)\n",
      "(17, 2)\n",
      "(17, 1)\n"
     ]
    }
   ],
   "source": [
    "rows = [1,2,3,17]\n",
    "def cols():\n",
    "    yield 56\n",
    "    yield 2\n",
    "    yield 1\n",
    "generator_b = ((i,j) for i in rows for j in cols())\n",
    "for b in generator_b:\n",
    "    print(b)"
   ]
  },
  {
   "attachments": {},
   "cell_type": "markdown",
   "metadata": {},
   "source": [
    "斐波那契数列，给定数字N，返回斐波那契数列\n",
    "1,1,2,3,5,8"
   ]
  },
  {
   "cell_type": "code",
   "execution_count": null,
   "metadata": {},
   "outputs": [],
   "source": []
  }
 ],
 "metadata": {
  "kernelspec": {
   "display_name": "Python 3",
   "language": "python",
   "name": "python3"
  },
  "language_info": {
   "codemirror_mode": {
    "name": "ipython",
    "version": 3
   },
   "file_extension": ".py",
   "mimetype": "text/x-python",
   "name": "python",
   "nbconvert_exporter": "python",
   "pygments_lexer": "ipython3",
   "version": "3.6.6"
  }
 },
 "nbformat": 4,
 "nbformat_minor": 2
}
