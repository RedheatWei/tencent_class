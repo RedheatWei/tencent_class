{
 "cells": [
  {
   "cell_type": "code",
   "execution_count": null,
   "metadata": {},
   "outputs": [],
   "source": [
    "#!/usr/bin/env python3\n",
    "username = input(\"Enter a username:\")\n",
    "password = input(\"Enter a password:\")\n",
    "count = 0\n",
    "try:\n",
    "    f = open('lock.txt','r')\n",
    "    usernames = f.readlines()\n",
    "except FileNotFoundError as e:\n",
    "    usernames = []\n",
    "if username not in usernames:\n",
    "    if username == 'UPWEN' and password == 'shangwen':\n",
    "        print(\"登陆成功!\")\n",
    "    else:\n",
    "        while count < 2:\n",
    "            count += 1\n",
    "            print(\"用户名或密码错误：%s\" % count)\n",
    "            username = input(\"Enter a username:\")\n",
    "            password = input(\"Enter a password:\")\n",
    "            continue\n",
    "        else:\n",
    "            f = open(\"lock.txt\",'w')\n",
    "            f.writelines(\"UPWEN\")\n",
    "            f.close()\n",
    "else:\n",
    "    print(\"用户已被锁定！\")"
   ]
  },
  {
   "cell_type": "code",
   "execution_count": null,
   "metadata": {},
   "outputs": [],
   "source": [
    " id(1)"
   ]
  },
  {
   "cell_type": "code",
   "execution_count": null,
   "metadata": {},
   "outputs": [],
   "source": []
  }
 ],
 "metadata": {
  "kernelspec": {
   "display_name": "Python 3",
   "language": "python",
   "name": "python3"
  },
  "language_info": {
   "codemirror_mode": {
    "name": "ipython",
    "version": 3
   },
   "file_extension": ".py",
   "mimetype": "text/x-python",
   "name": "python",
   "nbconvert_exporter": "python",
   "pygments_lexer": "ipython3",
   "version": "3.6.6"
  }
 },
 "nbformat": 4,
 "nbformat_minor": 2
}
