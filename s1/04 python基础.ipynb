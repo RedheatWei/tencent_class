{
 "cells": [
  {
   "cell_type": "markdown",
   "metadata": {},
   "source": [
    "让用户输入一个数，判断一个用户输入的是正数，负数，还是0。有能力的童鞋，允许用户持续输入，直到输入q来退出。\n"
   ]
  },
  {
   "cell_type": "code",
   "execution_count": null,
   "metadata": {},
   "outputs": [],
   "source": [
    "input_number = input(\"Enter a number:\")\n",
    "if input_number != '': #确认输入不为空\n",
    "    input_number = int(input_number) #把str转换成int\n",
    "    if input_number > 0:\n",
    "        print(\"这是个正数\")\n",
    "    elif input_number < 0:\n",
    "        print(\"这是个负数\")\n",
    "    else:\n",
    "        print(\"这是0\")\n",
    "else:\n",
    "    print(\"空输入\")"
   ]
  },
  {
   "cell_type": "code",
   "execution_count": null,
   "metadata": {},
   "outputs": [],
   "source": [
    "input_number = input(\"Enter a number:\")\n",
    "while True:\n",
    "    \n",
    "    if input_number != '': #确认输入不为空\n",
    "        if input_number != 'q':\n",
    "            input_number = float(input_number) #把str转换成int\n",
    "            if input_number > 0:\n",
    "                print(\"这是个正数\")\n",
    "            elif input_number < 0:\n",
    "                print(\"这是个负数\")\n",
    "            elif input_number == 0:\n",
    "                print(\"这是0\")\n",
    "            else:\n",
    "                print(\"这是啥\")\n",
    "        else:\n",
    "            break #退出循环\n",
    "#             continue\n",
    "    else:\n",
    "        print(\"空输入\")\n",
    "    input_number = input(\"Enter a number:\")"
   ]
  },
  {
   "cell_type": "markdown",
   "metadata": {},
   "source": [
    "# python基础\n",
    "## 语句和语法\n",
    "#### # \\n \\ ; : 缩进"
   ]
  },
  {
   "cell_type": "markdown",
   "metadata": {},
   "source": [
    "注释 # \"\" ''' '''\n",
    "\n",
    "\\ 继续符号"
   ]
  },
  {
   "cell_type": "code",
   "execution_count": 3,
   "metadata": {},
   "outputs": [
    {
     "name": "stdout",
     "output_type": "stream",
     "text": [
      "UPWEN\n"
     ]
    }
   ],
   "source": [
    "a = 1\n",
    "b = 2\n",
    "c = 3\n",
    "d = 4\n",
    "if d > c and b > a \\\n",
    "and c > b:\n",
    "    print('UPWEN')"
   ]
  },
  {
   "cell_type": "code",
   "execution_count": 5,
   "metadata": {},
   "outputs": [
    {
     "data": {
      "text/plain": [
       "[1, 2, 3, 4, 5, 6, 7, 8, 9]"
      ]
     },
     "execution_count": 5,
     "metadata": {},
     "output_type": "execute_result"
    }
   ],
   "source": [
    "[1,2,3,4,5,\n",
    " 6,7,8,9]"
   ]
  },
  {
   "cell_type": "code",
   "execution_count": 6,
   "metadata": {},
   "outputs": [
    {
     "data": {
      "text/plain": [
       "(1, 2, 3, 4, 5, 6, 7, 8, 9)"
      ]
     },
     "execution_count": 6,
     "metadata": {},
     "output_type": "execute_result"
    }
   ],
   "source": [
    "(1,2,3,4,5,\n",
    " 6,7,8,9)"
   ]
  },
  {
   "cell_type": "code",
   "execution_count": 8,
   "metadata": {},
   "outputs": [
    {
     "data": {
      "text/plain": [
       "{'a': 1, 'b': 2}"
      ]
     },
     "execution_count": 8,
     "metadata": {},
     "output_type": "execute_result"
    }
   ],
   "source": [
    "{'a':1,\n",
    " 'b':2}"
   ]
  },
  {
   "cell_type": "code",
   "execution_count": 9,
   "metadata": {},
   "outputs": [
    {
     "data": {
      "text/plain": [
       "'\\n能换行\\n能随便写\\n'"
      ]
     },
     "execution_count": 9,
     "metadata": {},
     "output_type": "execute_result"
    }
   ],
   "source": [
    "'''\n",
    "能换行\n",
    "能随便写\n",
    "'''"
   ]
  },
  {
   "cell_type": "markdown",
   "metadata": {},
   "source": [
    ":"
   ]
  },
  {
   "cell_type": "code",
   "execution_count": 10,
   "metadata": {},
   "outputs": [
    {
     "name": "stdout",
     "output_type": "stream",
     "text": [
      "a<b\n",
      "123\n"
     ]
    }
   ],
   "source": [
    "#子句\n",
    "if a < b:\n",
    "    # 代码组\n",
    "    print('a<b')\n",
    "    print('123')\n",
    "else:\n",
    "    # 代码组\n",
    "    print('a>b')\n",
    "    "
   ]
  },
  {
   "cell_type": "markdown",
   "metadata": {},
   "source": [
    "缩进：4个空格"
   ]
  },
  {
   "cell_type": "markdown",
   "metadata": {},
   "source": [
    ";  允许在一行写多个语句,建议是不要写"
   ]
  },
  {
   "cell_type": "code",
   "execution_count": 12,
   "metadata": {},
   "outputs": [
    {
     "name": "stdout",
     "output_type": "stream",
     "text": [
      "UPWEN\n"
     ]
    }
   ],
   "source": [
    "x = 'UPWEN';print(x)"
   ]
  },
  {
   "cell_type": "markdown",
   "metadata": {},
   "source": [
    "# 变量的赋值"
   ]
  },
  {
   "cell_type": "markdown",
   "metadata": {},
   "source": [
    "= 主要的赋值操作符\n",
    "\n",
    "+= -= *= /= 增量操作符\n"
   ]
  },
  {
   "cell_type": "code",
   "execution_count": 13,
   "metadata": {},
   "outputs": [],
   "source": [
    "#“对象引用”赋值给变量\n",
    "a = 1"
   ]
  },
  {
   "cell_type": "code",
   "execution_count": 14,
   "metadata": {},
   "outputs": [
    {
     "data": {
      "text/plain": [
       "493579296"
      ]
     },
     "execution_count": 14,
     "metadata": {},
     "output_type": "execute_result"
    }
   ],
   "source": [
    "id(1)"
   ]
  },
  {
   "cell_type": "code",
   "execution_count": 16,
   "metadata": {},
   "outputs": [
    {
     "data": {
      "text/plain": [
       "493579296"
      ]
     },
     "execution_count": 16,
     "metadata": {},
     "output_type": "execute_result"
    }
   ],
   "source": [
    "id(a)"
   ]
  },
  {
   "cell_type": "code",
   "execution_count": 20,
   "metadata": {},
   "outputs": [
    {
     "ename": "TypeError",
     "evalue": "must be str, not int",
     "output_type": "error",
     "traceback": [
      "\u001b[1;31m---------------------------------------------------------------------------\u001b[0m",
      "\u001b[1;31mTypeError\u001b[0m                                 Traceback (most recent call last)",
      "\u001b[1;32m<ipython-input-20-62769df3e545>\u001b[0m in \u001b[0;36m<module>\u001b[1;34m()\u001b[0m\n\u001b[0;32m      1\u001b[0m \u001b[1;31m#链式赋值\u001b[0m\u001b[1;33m\u001b[0m\u001b[1;33m\u001b[0m\u001b[0m\n\u001b[0;32m      2\u001b[0m \u001b[0my\u001b[0m \u001b[1;33m=\u001b[0m \u001b[0mx\u001b[0m \u001b[1;33m=\u001b[0m \u001b[0mx\u001b[0m \u001b[1;33m+\u001b[0m \u001b[1;34m'abc'\u001b[0m\u001b[1;33m\u001b[0m\u001b[0m\n\u001b[1;32m----> 3\u001b[1;33m \u001b[0my\u001b[0m \u001b[1;33m=\u001b[0m \u001b[0mx\u001b[0m \u001b[1;33m=\u001b[0m \u001b[0mx\u001b[0m \u001b[1;33m+\u001b[0m \u001b[1;36m1\u001b[0m\u001b[1;33m\u001b[0m\u001b[0m\n\u001b[0m",
      "\u001b[1;31mTypeError\u001b[0m: must be str, not int"
     ]
    }
   ],
   "source": [
    "#链式赋值  \n",
    "y = x = x + 'abc'\n",
    "y = x = x + 1"
   ]
  },
  {
   "cell_type": "markdown",
   "metadata": {},
   "source": [
    "增量赋值"
   ]
  },
  {
   "cell_type": "code",
   "execution_count": 21,
   "metadata": {},
   "outputs": [],
   "source": [
    "a = 2\n",
    "a +=1 "
   ]
  },
  {
   "cell_type": "code",
   "execution_count": 22,
   "metadata": {},
   "outputs": [
    {
     "name": "stdout",
     "output_type": "stream",
     "text": [
      "3\n"
     ]
    }
   ],
   "source": [
    "print(a)"
   ]
  },
  {
   "cell_type": "markdown",
   "metadata": {},
   "source": [
    "多重赋值"
   ]
  },
  {
   "cell_type": "code",
   "execution_count": 26,
   "metadata": {},
   "outputs": [],
   "source": [
    "x = y = z =10"
   ]
  },
  {
   "cell_type": "code",
   "execution_count": 27,
   "metadata": {},
   "outputs": [
    {
     "data": {
      "text/plain": [
       "493579584"
      ]
     },
     "execution_count": 27,
     "metadata": {},
     "output_type": "execute_result"
    }
   ],
   "source": [
    "id(x)"
   ]
  },
  {
   "cell_type": "code",
   "execution_count": 28,
   "metadata": {},
   "outputs": [
    {
     "data": {
      "text/plain": [
       "493579584"
      ]
     },
     "execution_count": 28,
     "metadata": {},
     "output_type": "execute_result"
    }
   ],
   "source": [
    "id(y)"
   ]
  },
  {
   "cell_type": "code",
   "execution_count": 29,
   "metadata": {},
   "outputs": [
    {
     "data": {
      "text/plain": [
       "493579584"
      ]
     },
     "execution_count": 29,
     "metadata": {},
     "output_type": "execute_result"
    }
   ],
   "source": [
    "id(z)"
   ]
  },
  {
   "cell_type": "code",
   "execution_count": 30,
   "metadata": {},
   "outputs": [
    {
     "data": {
      "text/plain": [
       "True"
      ]
     },
     "execution_count": 30,
     "metadata": {},
     "output_type": "execute_result"
    }
   ],
   "source": [
    "x is y"
   ]
  },
  {
   "cell_type": "markdown",
   "metadata": {},
   "source": [
    "多元赋值"
   ]
  },
  {
   "cell_type": "code",
   "execution_count": 32,
   "metadata": {},
   "outputs": [],
   "source": [
    "x,y,z = 1,'abc',2"
   ]
  },
  {
   "cell_type": "code",
   "execution_count": 33,
   "metadata": {},
   "outputs": [
    {
     "data": {
      "text/plain": [
       "1"
      ]
     },
     "execution_count": 33,
     "metadata": {},
     "output_type": "execute_result"
    }
   ],
   "source": [
    "x"
   ]
  },
  {
   "cell_type": "code",
   "execution_count": 34,
   "metadata": {},
   "outputs": [
    {
     "data": {
      "text/plain": [
       "'abc'"
      ]
     },
     "execution_count": 34,
     "metadata": {},
     "output_type": "execute_result"
    }
   ],
   "source": [
    "y"
   ]
  },
  {
   "cell_type": "code",
   "execution_count": 35,
   "metadata": {},
   "outputs": [
    {
     "data": {
      "text/plain": [
       "2"
      ]
     },
     "execution_count": 35,
     "metadata": {},
     "output_type": "execute_result"
    }
   ],
   "source": [
    "z"
   ]
  },
  {
   "cell_type": "code",
   "execution_count": 36,
   "metadata": {},
   "outputs": [],
   "source": [
    "x = 100\n",
    "y = 200"
   ]
  },
  {
   "cell_type": "code",
   "execution_count": 37,
   "metadata": {},
   "outputs": [],
   "source": [
    "tmp = x"
   ]
  },
  {
   "cell_type": "code",
   "execution_count": 38,
   "metadata": {},
   "outputs": [],
   "source": [
    "x = y"
   ]
  },
  {
   "cell_type": "code",
   "execution_count": 39,
   "metadata": {},
   "outputs": [],
   "source": [
    "y = tmp"
   ]
  },
  {
   "cell_type": "code",
   "execution_count": 40,
   "metadata": {},
   "outputs": [
    {
     "data": {
      "text/plain": [
       "(200, 100)"
      ]
     },
     "execution_count": 40,
     "metadata": {},
     "output_type": "execute_result"
    }
   ],
   "source": [
    "x,y"
   ]
  },
  {
   "cell_type": "code",
   "execution_count": 41,
   "metadata": {},
   "outputs": [],
   "source": [
    "x = 100\n",
    "y = 200"
   ]
  },
  {
   "cell_type": "code",
   "execution_count": 43,
   "metadata": {},
   "outputs": [],
   "source": [
    "x,y = y,x"
   ]
  },
  {
   "cell_type": "code",
   "execution_count": 44,
   "metadata": {},
   "outputs": [
    {
     "data": {
      "text/plain": [
       "(200, 100)"
      ]
     },
     "execution_count": 44,
     "metadata": {},
     "output_type": "execute_result"
    }
   ],
   "source": [
    "x,y"
   ]
  },
  {
   "cell_type": "markdown",
   "metadata": {},
   "source": [
    "# 标识符\n",
    "## 合法的python标识符\n",
    "#### 1.第一个字符必须是字母或者下划线\n",
    "#### 2.剩下的字符可以使字母，数字，或者下划线\n",
    "#### 3. 大小写是敏感的 "
   ]
  },
  {
   "cell_type": "code",
   "execution_count": 47,
   "metadata": {},
   "outputs": [],
   "source": [
    "A_123 = 10\n",
    "a_123 = 15"
   ]
  },
  {
   "cell_type": "code",
   "execution_count": 49,
   "metadata": {},
   "outputs": [
    {
     "name": "stdout",
     "output_type": "stream",
     "text": [
      "10 15\n"
     ]
    }
   ],
   "source": [
    "print(A_123,a_123)"
   ]
  },
  {
   "cell_type": "markdown",
   "metadata": {},
   "source": [
    "下划线标识符\n",
    "\n",
    "_xxx 不能用from ... import ...\n",
    "\n",
    "_xxx_ 系统内建，系统定义的\n",
    "\n",
    "__xxx 在类中是一个私有方法 "
   ]
  },
  {
   "attachments": {},
   "cell_type": "markdown",
   "metadata": {},
   "source": [
    "代码规范 https://www.python.org/dev/peps/pep-0008/"
   ]
  },
  {
   "cell_type": "code",
   "execution_count": null,
   "metadata": {},
   "outputs": [],
   "source": [
    "#/usr/bin/env python  #1.起始行\n",
    "\n",
    "“this is a test module” #2.模块文档，module.__doc__\n",
    "\n",
    "import sys      #3.模块导入\n",
    "import os       #一个模块只能被导入一次\n",
    "reload(os)\n",
    "\n",
    "debug = True   #4.全局变量定义.非必须的情况，尽量少的去定义一些全局变量\n",
    "\n",
    "class FooClass(object):   #5.类定义\n",
    "    “Foo class”\n",
    "    pass\n",
    "\n",
    "def test():               #6.函数定义\n",
    "    “test function”\n",
    "    foo = FooClass()\n",
    "    if debug:\n",
    "        print “run test()”\n",
    "\n",
    "if __name__ == ‘__main__’:   #7.主程序。脚本直接执行的时候，__name__ 就是'__main__'\n",
    "    test()\n"
   ]
  },
  {
   "cell_type": "markdown",
   "metadata": {},
   "source": [
    "# 内存管理\n",
    "#### 变量无须事先声明\n",
    "#### 变量无须指定类型\n",
    "#### 不用关心内存管理\n",
    "#### 变量会被回收\n",
    "#### del能够直接释放资源"
   ]
  },
  {
   "cell_type": "markdown",
   "metadata": {},
   "source": [
    "引用计数"
   ]
  },
  {
   "cell_type": "code",
   "execution_count": 51,
   "metadata": {},
   "outputs": [],
   "source": [
    "#对象被创建并赋值给变量，引用计数被设置成1\n",
    "# 同一个对象被赋值给其他变量的时候，或者作为参数传递给函数 方法 或者类实例，或者被赋值成一个窗口对象的成员，这个对象的一个新引用，就被创建了\n",
    "x = 3.14\n",
    "y = x"
   ]
  },
  {
   "cell_type": "code",
   "execution_count": 52,
   "metadata": {},
   "outputs": [],
   "source": [
    "# 对线被显示销毁\n",
    "del y"
   ]
  },
  {
   "cell_type": "code",
   "execution_count": 53,
   "metadata": {},
   "outputs": [],
   "source": [
    "del x"
   ]
  },
  {
   "cell_type": "code",
   "execution_count": 54,
   "metadata": {},
   "outputs": [],
   "source": [
    "# 本地引用离开了作用域范围\n",
    "def func():\n",
    "    x = 1.1"
   ]
  },
  {
   "cell_type": "code",
   "execution_count": null,
   "metadata": {},
   "outputs": [],
   "source": [
    "#!/usr/bin/env python\n",
    "\n",
    "'makeTextFile.py -- create text file'\n",
    "\n",
    "import os \n",
    "ls = os.linesep #别名，os.linesep，两次查询，首先查询os确认是模块。查询模块中有linesep\n",
    "# get filename\n",
    "while True:\n",
    "    fname = input('Enter file name: ')\n",
    "    if os.path.exists(fname):  #检查文件是否存在\n",
    "        print(\"*** ERROR: '%s' already exists\") % fname\n",
    "    else:\n",
    "        break \n",
    "\n",
    "# get file content (text) lines\n",
    "all = [] #创建空列表\n",
    "print(\"\\nEnter lines ('.' by itself to quit).\\n\")\n",
    "\n",
    "# loop until user terminates input\n",
    "while True:\n",
    "    entry = input('> ')\n",
    "    if entry == '.':\n",
    "        break\n",
    "    else:\n",
    "        all.append(entry) #添加\n",
    "\n",
    "# write lines to file with NEWLINE line terminator\n",
    "fobj = open(fname, 'w')\n",
    "line_all = ['%s%s' % (x,ls) for x in all ]\n",
    "print(line_all)\n",
    "fobj.writelines(line_all)\n",
    "fobj.close()\n",
    "print('DONE!')\n"
   ]
  },
  {
   "cell_type": "code",
   "execution_count": null,
   "metadata": {},
   "outputs": [],
   "source": [
    "#!/usr/bin/env python\n",
    "\n",
    "'readTextFile.py -- read and display text file'\n",
    "\n",
    "# get filename\n",
    "fname = input('Enter file name: ')\n",
    "\n",
    "# attempt to open file for reading\n",
    "try:\n",
    "    fobj = open(fname, 'r')\n",
    "except IOError as e:\n",
    "    print(\"*** file open error:\", e)\n",
    "else:\n",
    "    # display contents to the screen\n",
    "    for eachLine in fobj:\n",
    "        print(eachLine,end='')\n",
    "    fobj.close()"
   ]
  },
  {
   "attachments": {},
   "cell_type": "markdown",
   "metadata": {},
   "source": [
    "1.把前面的2段程序连起来，让用户自己选择是创建文件还是读取文件。\n",
    "\n",
    "2.写一个登录程序，输入用户名和密码，输入正确显示欢迎信息，输入错误3次后锁定。"
   ]
  },
  {
   "cell_type": "code",
   "execution_count": null,
   "metadata": {},
   "outputs": [],
   "source": []
  }
 ],
 "metadata": {
  "kernelspec": {
   "display_name": "Python 3",
   "language": "python",
   "name": "python3"
  },
  "language_info": {
   "codemirror_mode": {
    "name": "ipython",
    "version": 3
   },
   "file_extension": ".py",
   "mimetype": "text/x-python",
   "name": "python",
   "nbconvert_exporter": "python",
   "pygments_lexer": "ipython3",
   "version": "3.6.6"
  }
 },
 "nbformat": 4,
 "nbformat_minor": 2
}
